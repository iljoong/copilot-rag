{
 "cells": [
  {
   "cell_type": "markdown",
   "id": "924c630a",
   "metadata": {},
   "source": [
    "# Azure OpenAI bring your own data api test\n",
    "\n",
    "Ingestion\n",
    "\n",
    "### REST API\n",
    "\n",
    "https://learn.microsoft.com/en-us/azure/ai-services/openai/reference#completions-extensions"
   ]
  },
  {
   "cell_type": "code",
   "execution_count": 2,
   "id": "68299d92",
   "metadata": {},
   "outputs": [
    {
     "data": {
      "text/plain": [
       "True"
      ]
     },
     "execution_count": 2,
     "metadata": {},
     "output_type": "execute_result"
    }
   ],
   "source": [
    "from dotenv import load_dotenv\n",
    "load_dotenv()"
   ]
  },
  {
   "cell_type": "code",
   "execution_count": 3,
   "id": "6fcd5642",
   "metadata": {},
   "outputs": [],
   "source": [
    "import requests\n",
    "import json\n",
    "import os\n",
    "\n",
    "AOAI_KEY = os.environ['AOAI_KEY']\n",
    "AOAI_ENDPOINT = os.environ['AOAI_ENDPOINT']\n",
    "#MODEL = 'gpt-35-turbo-16k'\n",
    "MODEL = 'gpt-35-turbo'\n",
    "#MODEL = 'gpt-4'\n",
    "\n",
    "EMBED_AOAI_KEY = os.environ['JP_AOAI_KEY']\n",
    "EMBED_AOAI_ENDPOINT = os.environ['JP_AOAI_ENDPOINT']\n",
    "\n",
    "EMBED_MODEL = 'text-embedding-ada-002'\n",
    "VERSION = '2023-08-01-preview'"
   ]
  },
  {
   "cell_type": "code",
   "execution_count": 4,
   "id": "f1066709",
   "metadata": {},
   "outputs": [],
   "source": [
    "AOAI_ENDPOINT = os.environ['JP_AOAI_ENDPOINT']\n",
    "AOAI_KEY = os.environ['JP_AOAI_KEY']\n",
    "\n",
    "STORAGE_CONNECTION_STRING = os.environ['STORAGE_CONNSTR']\n",
    "\n",
    "AZSCH_ENDPOINT = os.getenv(\"AZSCH_ENDPOINT\")  \n",
    "AZSCH_KEY = os.getenv(\"AZSCH_KEY\")  \n",
    "\n",
    "AOAI_EMBEDIING_ENDPOINT=f'{EMBED_AOAI_ENDPOINT}openai/deployments/{EMBED_MODEL}/embeddings?api-version=2023-05-15'"
   ]
  },
  {
   "cell_type": "markdown",
   "id": "2d129204",
   "metadata": {},
   "source": [
    "### NOTE\n",
    "\n",
    "`dataRefreshIntervalInMinutes = 0` -  If you want to run a single ingestion job without a schedule, set this parameter to 0."
   ]
  },
  {
   "cell_type": "code",
   "execution_count": 23,
   "id": "a8b7ba7f",
   "metadata": {},
   "outputs": [],
   "source": [
    "import requests\n",
    "import json\n",
    "import sseclient\n",
    "import os\n",
    "import time\n",
    "from datetime import datetime\n",
    "import sys\n",
    "\n",
    "def ingest_request(job, container):\n",
    "    AOAI_BYOD_ENDPOINT = f'{AOAI_ENDPOINT}openai/extensions/on-your-data/ingestion-jobs/{job}?api-version=2023-10-01-preview'\n",
    "\n",
    "    try:\n",
    "        url = AOAI_BYOD_ENDPOINT\n",
    "        headers = {\n",
    "            'Content-Type': 'application/json',\n",
    "            'api-key': AOAI_KEY,\n",
    "            'searchServiceEndpoint': AZSCH_ENDPOINT,\n",
    "            'searchServiceAdminKey': AZSCH_KEY,\n",
    "            'storageConnectionString': STORAGE_CONNECTION_STRING,\n",
    "            'storageContainer': container,\n",
    "            'embeddingEndpoint': AOAI_EMBEDIING_ENDPOINT,\n",
    "            'embeddingKey': AOAI_KEY\n",
    "        }\n",
    "        body = {\n",
    "            'dataRefreshIntervalInMinutes': 0\n",
    "        }\n",
    "\n",
    "\n",
    "        request = requests.put(url, headers=headers, json=body)\n",
    "\n",
    "        return json.loads(request.text)\n",
    "    except Exception as ex:\n",
    "        return ex\n",
    "    "
   ]
  },
  {
   "cell_type": "code",
   "execution_count": 24,
   "id": "ef4f2050",
   "metadata": {},
   "outputs": [
    {
     "data": {
      "text/plain": [
       "{'id': 'appsvc',\n",
       " 'dataRefreshIntervalInMinutes': 0,\n",
       " 'completionAction': 'cleanUpAssets',\n",
       " 'status': 'notRunning',\n",
       " 'warnings': [],\n",
       " 'progress': {'stageProgress': [{'name': 'Preprocessing',\n",
       "    'totalItems': 0,\n",
       "    'processedItems': 0},\n",
       "   {'name': 'Indexing', 'totalItems': 0, 'processedItems': 0}]}}"
      ]
     },
     "execution_count": 24,
     "metadata": {},
     "output_type": "execute_result"
    }
   ],
   "source": [
    "ingest_request('appsvc', 'data')"
   ]
  },
  {
   "cell_type": "code",
   "execution_count": 25,
   "id": "b2e1f651",
   "metadata": {},
   "outputs": [],
   "source": [
    "def ingest_list():\n",
    "    AOAI_BYOD_ENDPOINT = f'{AOAI_ENDPOINT}openai/extensions/on-your-data/ingestion-jobs?api-version=2023-10-01-preview'\n",
    "\n",
    "    try:\n",
    "        url = AOAI_BYOD_ENDPOINT\n",
    "        headers = {\n",
    "            'Content-Type': 'application/json',\n",
    "            'api-key': AOAI_KEY,\n",
    "        }\n",
    "\n",
    "\n",
    "        request = requests.get(url, headers=headers)\n",
    "\n",
    "        return json.loads(request.text)\n",
    "    except Exception as ex:\n",
    "        return ex"
   ]
  },
  {
   "cell_type": "code",
   "execution_count": 26,
   "id": "015ce238",
   "metadata": {},
   "outputs": [
    {
     "data": {
      "text/plain": [
       "{'value': [{'id': 'appsvc',\n",
       "   'dataRefreshIntervalInMinutes': 0,\n",
       "   'completionAction': 'cleanUpAssets',\n",
       "   'status': 'notRunning',\n",
       "   'warnings': [],\n",
       "   'progress': {'stageProgress': [{'name': 'Preprocessing',\n",
       "      'totalItems': 0,\n",
       "      'processedItems': 0},\n",
       "     {'name': 'Indexing', 'totalItems': 0, 'processedItems': 0}]}}]}"
      ]
     },
     "execution_count": 26,
     "metadata": {},
     "output_type": "execute_result"
    }
   ],
   "source": [
    "ingest_list()"
   ]
  },
  {
   "cell_type": "code",
   "execution_count": 27,
   "id": "0c61d22e",
   "metadata": {},
   "outputs": [],
   "source": [
    "def ingest_status(job):\n",
    "    AOAI_BYOD_ENDPOINT = f'{AOAI_ENDPOINT}openai/extensions/on-your-data/ingestion-jobs?api-version=2023-10-01-preview'\n",
    "    \n",
    "    try:\n",
    "        url = AOAI_BYOD_ENDPOINT\n",
    "        headers = {\n",
    "            'Content-Type': 'application/json',\n",
    "            'api-key': AOAI_KEY,\n",
    "        }\n",
    "\n",
    "\n",
    "        request = requests.get(url, headers=headers)\n",
    "\n",
    "        return json.loads(request.text)\n",
    "    except Exception as ex:\n",
    "        return ex\n",
    "    "
   ]
  },
  {
   "cell_type": "code",
   "execution_count": 29,
   "id": "4b19ec27",
   "metadata": {},
   "outputs": [
    {
     "data": {
      "text/plain": [
       "{'id': 'appsvc',\n",
       " 'dataRefreshIntervalInMinutes': 0,\n",
       " 'completionAction': 'cleanUpAssets',\n",
       " 'status': 'running',\n",
       " 'warnings': [\"This ADLS Gen2 indexer maps the property 'metadata_storage_path' to the index key, which may not reindex documents if directories are renamed. Update the 'LastModified' timestamps for all the blobs in the directory to ensure they get reindexed.  (1 item(s) impacted)\",\n",
       "  \"Truncated extracted text to '65536' characters.  (1 item(s) impacted)\"],\n",
       " 'progress': {'stageProgress': [{'name': 'Preprocessing',\n",
       "    'totalItems': 185,\n",
       "    'processedItems': 145},\n",
       "   {'name': 'Indexing', 'totalItems': 0, 'processedItems': 0}]}}"
      ]
     },
     "execution_count": 29,
     "metadata": {},
     "output_type": "execute_result"
    }
   ],
   "source": [
    "ingest_status('appsvc')"
   ]
  },
  {
   "cell_type": "code",
   "execution_count": null,
   "id": "1e7fff98",
   "metadata": {},
   "outputs": [],
   "source": []
  }
 ],
 "metadata": {
  "kernelspec": {
   "display_name": "Python 3 (ipykernel)",
   "language": "python",
   "name": "python3"
  },
  "language_info": {
   "codemirror_mode": {
    "name": "ipython",
    "version": 3
   },
   "file_extension": ".py",
   "mimetype": "text/x-python",
   "name": "python",
   "nbconvert_exporter": "python",
   "pygments_lexer": "ipython3",
   "version": "3.10.11"
  }
 },
 "nbformat": 4,
 "nbformat_minor": 5
}
