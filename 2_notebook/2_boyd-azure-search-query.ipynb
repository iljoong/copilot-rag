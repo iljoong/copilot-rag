{
 "cells": [
  {
   "cell_type": "markdown",
   "id": "18203f6f",
   "metadata": {},
   "source": [
    "# Azure OpenAI bring your own data api test\n",
    "\n",
    "- gpt-35-turbo-0601 version is not supported.\n",
    "```\n",
    "\"Unsupported Model. Model Name: 'gpt-35-turbo' Model Version '0613'. Please retry with supported model: gpt35-turbo-16k, gpt-turbo-32k or gpt4\"\n",
    "```\n",
    "- vector search supported.\n",
    "\n",
    "```\n",
    "queryType = simple, semantic, vector, vectorSimpleHybrid, vectorSemanticHybrid\n",
    "```\n",
    "- embedding API cannot access if private endpoint is enabled. (allow all network access) \n",
    "```\n",
    "\"Gateway cannot authenticate upstream services. Please contact Microsoft for help.\"\n",
    "```\n",
    "\n",
    "### REST API\n",
    "\n",
    "https://learn.microsoft.com/en-us/azure/ai-services/openai/reference#completions-extensions\n"
   ]
  },
  {
   "cell_type": "code",
   "execution_count": 1,
   "id": "44511643",
   "metadata": {
    "scrolled": true
   },
   "outputs": [
    {
     "data": {
      "text/plain": [
       "True"
      ]
     },
     "execution_count": 1,
     "metadata": {},
     "output_type": "execute_result"
    }
   ],
   "source": [
    "from dotenv import load_dotenv\n",
    "load_dotenv()"
   ]
  },
  {
   "cell_type": "code",
   "execution_count": 2,
   "id": "3f01fd87",
   "metadata": {},
   "outputs": [],
   "source": [
    "import requests\n",
    "import json\n",
    "import os\n",
    "\n",
    "AOAI_KEY = os.environ['AOAI_KEY']\n",
    "AOAI_ENDPOINT = os.environ['AOAI_ENDPOINT']\n",
    "#MODEL = 'gpt-35-turbo-16k'\n",
    "MODEL = 'gpt-35-turbo'\n",
    "#MODEL = 'gpt-4'\n",
    "\n",
    "EMBED_AOAI_KEY = os.environ['JP_AOAI_KEY']\n",
    "EMBED_AOAI_ENDPOINT = os.environ['JP_AOAI_ENDPOINT']\n",
    "\n",
    "EMBED_MODEL = 'text-embedding-ada-002'\n",
    "VERSION = '2023-08-01-preview'\n",
    "\n",
    "AZSCH_ENDPOINT = os.getenv(\"AZSCH_ENDPOINT\")  \n",
    "AZSCH_KEY = os.getenv(\"AZSCH_KEY\")  "
   ]
  },
  {
   "cell_type": "markdown",
   "id": "0bbd0932",
   "metadata": {},
   "source": [
    "Message format is different for each API version\n",
    "- 2023-06-01-preview\n",
    "- 2023-08-01-preview\n"
   ]
  },
  {
   "cell_type": "markdown",
   "id": "6194fd31",
   "metadata": {},
   "source": [
    "### embedding endpoint\n",
    "See this this [link](https://github.com/microsoft/sample-app-aoai-chatGPT/tree/ea7a94a7979fc62f56ffac553401d483ff6d807e/scripts#optional-add-vector-embeddings) "
   ]
  },
  {
   "cell_type": "code",
   "execution_count": 3,
   "id": "e095ed0c",
   "metadata": {},
   "outputs": [],
   "source": [
    "AOAI_EMBEDIING_ENDPOINT=f'{EMBED_AOAI_ENDPOINT}openai/deployments/{EMBED_MODEL}/embeddings?api-version=2023-05-15'"
   ]
  },
  {
   "cell_type": "raw",
   "id": "dd2c00c2",
   "metadata": {},
   "source": [
    "SC_AOAI_ENDPOINT = os.environ['AOAI_ENDPOINT']\n",
    "AOAI_EMBEDIING_ENDPOINT=f'{JP_AOAI_ENDPOINT}/openai/deployments/{EMBED_MODEL}/embeddings?api-version=2023-06-01-preview'\n",
    "SC_AOAI_KEY = os.environ['AOAI_KEY']"
   ]
  },
  {
   "cell_type": "code",
   "execution_count": 4,
   "id": "6d0c3ec9",
   "metadata": {},
   "outputs": [],
   "source": [
    "AOAI_CHAT_ENDPOINT = f'{AOAI_ENDPOINT}openai/deployments/{MODEL}/extensions/chat/completions?api-version={VERSION}'"
   ]
  },
  {
   "cell_type": "code",
   "execution_count": 5,
   "id": "67108c8c",
   "metadata": {},
   "outputs": [],
   "source": [
    "import requests\n",
    "import json\n",
    "import sseclient\n",
    "import os\n",
    "import time\n",
    "from datetime import datetime\n",
    "import sys\n",
    "\n",
    "def aoai_request(arg, index_name='appsvc'):\n",
    "    try:\n",
    "        url = AOAI_CHAT_ENDPOINT\n",
    "        headers = {\n",
    "            'Content-Type': 'application/json',\n",
    "            'api-key': AOAI_KEY\n",
    "        }\n",
    "        body = {\n",
    "            \"dataSources\": [\n",
    "                {\n",
    "                    \"type\": \"AzureCognitiveSearch\",\n",
    "                    \"parameters\": {\n",
    "                        \"endpoint\": AZSCH_ENDPOINT,\n",
    "                        \"key\": AZSCH_KEY,\n",
    "                        \"indexName\": index_name,\n",
    "                        \"topNDocuments\": 2,\n",
    "                        \"inScope\": True,\n",
    "                        \"queryType\": \"vectorSimpleHybrid\",\n",
    "                        \"embeddingEndpoint\": AOAI_EMBEDIING_ENDPOINT,\n",
    "                        \"embeddingKey\": EMBED_AOAI_KEY,\n",
    "\n",
    "                    }\n",
    "                }\n",
    "            ],\n",
    "          \"messages\": [\n",
    "              {\"role\": \"user\", \"content\": arg}\n",
    "          ],\n",
    "          \"max_tokens\": 1000,\n",
    "          \"temperature\": 0,\n",
    "          \"top_p\": 0.1\n",
    "        }\n",
    "\n",
    "\n",
    "        request = requests.post(url, headers=headers, json=body)\n",
    "\n",
    "        return json.loads(request.text)\n",
    "    except Exception as ex:\n",
    "        return ex\n",
    "    "
   ]
  },
  {
   "cell_type": "code",
   "execution_count": 8,
   "id": "70f114b9",
   "metadata": {},
   "outputs": [],
   "source": [
    "from IPython.display import display, Markdown, Latex, HTML, JSON\n",
    "\n",
    "# 2023-08-01-preview\n",
    "def qna(query, index_name='appsvc'):\n",
    "    ret = aoai_request(query, index_name)\n",
    "    \n",
    "    js = json.loads(ret['choices'][0]['message']['context']['messages'][0]['content'])\n",
    "    print('intent:', js['intent'])\n",
    "    \n",
    "    answer = ret['choices'][0]['message']['content']\n",
    "    answer = answer.replace(\"[doc1]\", f\"[1](https://github.com/MicrosoftDocs/azure-docs/blob/main/articles/app-service/{js['citations'][0]['filepath']})\")\n",
    "    answer = answer.replace(\"[doc2]\", f\"[2](https://github.com/MicrosoftDocs/azure-docs/blob/main/articles/app-service/{js['citations'][1]['filepath']})\")\n",
    "    \n",
    "    print('answer:', answer)\n",
    "        \n",
    "    return js, answer"
   ]
  },
  {
   "cell_type": "code",
   "execution_count": 7,
   "id": "7235f2a9",
   "metadata": {
    "scrolled": true
   },
   "outputs": [
    {
     "name": "stdout",
     "output_type": "stream",
     "text": [
      "intent: [\"What is Azure App Service?\", \"Azure App Service definition\", \"Azure App Service explanation\"]\n",
      "answer: Azure App Service is a fully managed HTTP-based service for hosting web applications, REST APIs, and mobile back ends[1](https://github.com/MicrosoftDocs/azure-docs/blob/main/articles/app-service/overview.md). It supports multiple languages and frameworks, including .NET, .NET Core, Java, Node.js, PHP, and Python, and can run on both Windows and Linux-based environments[1](https://github.com/MicrosoftDocs/azure-docs/blob/main/articles/app-service/overview.md). App Service provides various features such as security, load balancing, autoscaling, and automated management, and offers DevOps capabilities such as continuous deployment from Azure DevOps, GitHub, Docker Hub, and other sources, package management, staging environments, custom domain, and TLS/SSL certificates[1](https://github.com/MicrosoftDocs/azure-docs/blob/main/articles/app-service/overview.md). The compute resources used by App Service are determined by the App Service plan, which defines a set of compute resources for a web app to run, including the operating system, region, number and size of VM instances, and pricing tier[2](https://github.com/MicrosoftDocs/azure-docs/blob/main/articles/app-service/overview-hosting-plans.md). The pricing tier of an App Service plan determines the App Service features and the cost[2](https://github.com/MicrosoftDocs/azure-docs/blob/main/articles/app-service/overview-hosting-plans.md).\n",
      "CPU times: user 12.3 ms, sys: 671 µs, total: 13 ms\n",
      "Wall time: 7.03 s\n"
     ]
    }
   ],
   "source": [
    "%%time\n",
    "\n",
    "query = 'What is the App Service?'\n",
    "js, md = qna(query)"
   ]
  },
  {
   "cell_type": "code",
   "execution_count": 9,
   "id": "3853dccb",
   "metadata": {},
   "outputs": [
    {
     "data": {
      "text/markdown": [
       "Azure App Service is a fully managed HTTP-based service for hosting web applications, REST APIs, and mobile back ends[1](https://github.com/MicrosoftDocs/azure-docs/blob/main/articles/app-service/overview.md). It supports multiple languages and frameworks, including .NET, .NET Core, Java, Node.js, PHP, and Python, and can run on both Windows and Linux-based environments[1](https://github.com/MicrosoftDocs/azure-docs/blob/main/articles/app-service/overview.md). App Service provides various features such as security, load balancing, autoscaling, and automated management, and offers DevOps capabilities such as continuous deployment from Azure DevOps, GitHub, Docker Hub, and other sources, package management, staging environments, custom domain, and TLS/SSL certificates[1](https://github.com/MicrosoftDocs/azure-docs/blob/main/articles/app-service/overview.md). The compute resources used by App Service are determined by the App Service plan, which defines a set of compute resources for a web app to run, including the operating system, region, number and size of VM instances, and pricing tier[2](https://github.com/MicrosoftDocs/azure-docs/blob/main/articles/app-service/overview-hosting-plans.md). The pricing tier of an App Service plan determines the App Service features and the cost[2](https://github.com/MicrosoftDocs/azure-docs/blob/main/articles/app-service/overview-hosting-plans.md)."
      ],
      "text/plain": [
       "<IPython.core.display.Markdown object>"
      ]
     },
     "metadata": {},
     "output_type": "display_data"
    }
   ],
   "source": [
    "display(Markdown(md))"
   ]
  },
  {
   "cell_type": "code",
   "execution_count": 11,
   "id": "35208d82",
   "metadata": {},
   "outputs": [
    {
     "name": "stdout",
     "output_type": "stream",
     "text": [
      "intent: [\"Does App Service support Java?\", \"Java support in Azure App Service\"]\n",
      "answer: Yes, Azure App Service supports Java for building, deploying, and scaling Java SE, Tomcat, and JBoss EAP web applications on a fully managed service[1](https://github.com/MicrosoftDocs/azure-docs/blob/main/articles/app-service/configure-language-java.md)[2](https://github.com/MicrosoftDocs/azure-docs/blob/main/articles/app-service/configure-language-java.md). Java developers can deploy applications with Maven plugins, from the command line, or in editors like IntelliJ, Eclipse, or Visual Studio Code[2](https://github.com/MicrosoftDocs/azure-docs/blob/main/articles/app-service/configure-language-java.md). Azure App Service also provides automatic patching and fixes for supported JDKs on a quarterly basis, as well as security updates for major vulnerabilities[1](https://github.com/MicrosoftDocs/azure-docs/blob/main/articles/app-service/configure-language-java.md). However, Tomcat 8.0 has reached end of life and will not receive security updates on Azure App Service, so it is recommended to migrate to Tomcat 8.5 or 9.0 if possible[1](https://github.com/MicrosoftDocs/azure-docs/blob/main/articles/app-service/configure-language-java.md). Additionally, community support for Java 7 will terminate on July 29, 2022, and Java 7 will be retired from App Service at that time[1](https://github.com/MicrosoftDocs/azure-docs/blob/main/articles/app-service/configure-language-java.md).\n"
     ]
    },
    {
     "data": {
      "text/markdown": [
       "Yes, Azure App Service supports Java for building, deploying, and scaling Java SE, Tomcat, and JBoss EAP web applications on a fully managed service[1](https://github.com/MicrosoftDocs/azure-docs/blob/main/articles/app-service/configure-language-java.md)[2](https://github.com/MicrosoftDocs/azure-docs/blob/main/articles/app-service/configure-language-java.md). Java developers can deploy applications with Maven plugins, from the command line, or in editors like IntelliJ, Eclipse, or Visual Studio Code[2](https://github.com/MicrosoftDocs/azure-docs/blob/main/articles/app-service/configure-language-java.md). Azure App Service also provides automatic patching and fixes for supported JDKs on a quarterly basis, as well as security updates for major vulnerabilities[1](https://github.com/MicrosoftDocs/azure-docs/blob/main/articles/app-service/configure-language-java.md). However, Tomcat 8.0 has reached end of life and will not receive security updates on Azure App Service, so it is recommended to migrate to Tomcat 8.5 or 9.0 if possible[1](https://github.com/MicrosoftDocs/azure-docs/blob/main/articles/app-service/configure-language-java.md). Additionally, community support for Java 7 will terminate on July 29, 2022, and Java 7 will be retired from App Service at that time[1](https://github.com/MicrosoftDocs/azure-docs/blob/main/articles/app-service/configure-language-java.md)."
      ],
      "text/plain": [
       "<IPython.core.display.Markdown object>"
      ]
     },
     "metadata": {},
     "output_type": "display_data"
    },
    {
     "name": "stdout",
     "output_type": "stream",
     "text": [
      "CPU times: user 11.3 ms, sys: 509 µs, total: 11.8 ms\n",
      "Wall time: 6.52 s\n"
     ]
    }
   ],
   "source": [
    "%%time\n",
    "\n",
    "query = 'Does App Service support Java?'\n",
    "js, md = qna(query)\n",
    "display(Markdown(md))"
   ]
  },
  {
   "cell_type": "code",
   "execution_count": 12,
   "id": "4e5c5243",
   "metadata": {},
   "outputs": [
    {
     "name": "stdout",
     "output_type": "stream",
     "text": [
      "intent: [\"Does App Service support iOS?\", \"Can I deploy iOS apps on App Service?\"]\n",
      "answer: The retrieved documents do not provide any information related to whether App Service supports iOS. The requested information is not available in the retrieved data. Please try another query or topic.\n"
     ]
    },
    {
     "data": {
      "text/markdown": [
       "The retrieved documents do not provide any information related to whether App Service supports iOS. The requested information is not available in the retrieved data. Please try another query or topic."
      ],
      "text/plain": [
       "<IPython.core.display.Markdown object>"
      ]
     },
     "metadata": {},
     "output_type": "display_data"
    },
    {
     "name": "stdout",
     "output_type": "stream",
     "text": [
      "CPU times: user 11.3 ms, sys: 426 µs, total: 11.8 ms\n",
      "Wall time: 4.46 s\n"
     ]
    }
   ],
   "source": [
    "%%time\n",
    "\n",
    "query = 'Does App Service support iOS?'\n",
    "js, md = qna(query)\n",
    "display(Markdown(md))"
   ]
  },
  {
   "cell_type": "code",
   "execution_count": 16,
   "id": "b37a1da5",
   "metadata": {
    "scrolled": true
   },
   "outputs": [
    {
     "name": "stdout",
     "output_type": "stream",
     "text": [
      "intent: [\"How to reference Key Vault secrets in App Service application settings?\", \"Configure App Service to use Key Vault secrets in application settings\"]\n",
      "answer: To configure Azure App Service to reference Key Vault secrets in application settings, you need to first create a Key Vault and grant your app access to it[1](https://github.com/MicrosoftDocs/azure-docs/blob/main/articles/app-service/app-service-key-vault-references.md). Then, you can use the Key Vault reference as the value of app settings or connection strings in your App Service or Azure Functions apps[1](https://github.com/MicrosoftDocs/azure-docs/blob/main/articles/app-service/app-service-key-vault-references.md). To do this, you can use the `@Microsoft.KeyVault` syntax to reference the secret in the Key Vault[1](https://github.com/MicrosoftDocs/azure-docs/blob/main/articles/app-service/app-service-key-vault-references.md). You can create the app setting with the Key Vault reference using the Azure CLI command `az webapp config appsettings set`[2](https://github.com/MicrosoftDocs/azure-docs/blob/main/articles/app-service/configure-encrypt-at-rest-using-cmk.md). After updating the app setting, the web app will restart and you can browse to it to ensure it has started correctly using the Key Vault reference[2](https://github.com/MicrosoftDocs/azure-docs/blob/main/articles/app-service/configure-encrypt-at-rest-using-cmk.md).\n"
     ]
    },
    {
     "data": {
      "text/markdown": [
       "To configure Azure App Service to reference Key Vault secrets in application settings, you need to first create a Key Vault and grant your app access to it[1](https://github.com/MicrosoftDocs/azure-docs/blob/main/articles/app-service/app-service-key-vault-references.md). Then, you can use the Key Vault reference as the value of app settings or connection strings in your App Service or Azure Functions apps[1](https://github.com/MicrosoftDocs/azure-docs/blob/main/articles/app-service/app-service-key-vault-references.md). To do this, you can use the `@Microsoft.KeyVault` syntax to reference the secret in the Key Vault[1](https://github.com/MicrosoftDocs/azure-docs/blob/main/articles/app-service/app-service-key-vault-references.md). You can create the app setting with the Key Vault reference using the Azure CLI command `az webapp config appsettings set`[2](https://github.com/MicrosoftDocs/azure-docs/blob/main/articles/app-service/configure-encrypt-at-rest-using-cmk.md). After updating the app setting, the web app will restart and you can browse to it to ensure it has started correctly using the Key Vault reference[2](https://github.com/MicrosoftDocs/azure-docs/blob/main/articles/app-service/configure-encrypt-at-rest-using-cmk.md)."
      ],
      "text/plain": [
       "<IPython.core.display.Markdown object>"
      ]
     },
     "metadata": {},
     "output_type": "display_data"
    },
    {
     "name": "stdout",
     "output_type": "stream",
     "text": [
      "CPU times: user 7.67 ms, sys: 4.51 ms, total: 12.2 ms\n",
      "Wall time: 6.99 s\n"
     ]
    }
   ],
   "source": [
    "%%time\n",
    "\n",
    "query = 'How to config App service to reference Key Vault secrets in application settings?'\n",
    "js, md = qna(query)\n",
    "display(Markdown(md))"
   ]
  },
  {
   "cell_type": "code",
   "execution_count": 17,
   "id": "6c5ee6a1",
   "metadata": {},
   "outputs": [
    {
     "name": "stdout",
     "output_type": "stream",
     "text": [
      "intent: [\"How to deploy container from ACR to web app?\", \"Deploy container from ACR to web app\", \"Steps to deploy container from ACR to web app\"]\n",
      "answer: To deploy a container from Azure Container Registry (ACR) to a web app, you can use the build, push, and deploy workflow provided by GitHub Actions[1](https://github.com/MicrosoftDocs/azure-docs/blob/main/articles/app-service/app-service-sql-github-actions.md). This workflow builds a container with the latest app changes, pushes the container to ACR, and updates the web application staging slot to point to the latest container pushed[1](https://github.com/MicrosoftDocs/azure-docs/blob/main/articles/app-service/app-service-sql-github-actions.md). The workflow includes a build and deploy job, where the build job checks out source code, authenticates with ACR, builds a container image, and deploys it to ACR[1](https://github.com/MicrosoftDocs/azure-docs/blob/main/articles/app-service/app-service-sql-github-actions.md). The deployment job logs into Azure, gathers environment and Azure resource information, updates Web App Settings, and deploys to an App Service staging slot[1](https://github.com/MicrosoftDocs/azure-docs/blob/main/articles/app-service/app-service-sql-github-actions.md). To run the build, push, and deploy workflow, you need to open your `build-deploy.yaml` file in `.github/workflows` within your repository, verify that the environment variables for `AZURE_RESOURCE_GROUP` and `WEB_APP_NAME` match the ones in `azuredeploy.yaml`, and update the `ACR_LOGIN_SERVER` value for your ACR login server[1](https://github.com/MicrosoftDocs/azure-docs/blob/main/articles/app-service/app-service-sql-github-actions.md).\n"
     ]
    },
    {
     "data": {
      "text/markdown": [
       "To deploy a container from Azure Container Registry (ACR) to a web app, you can use the build, push, and deploy workflow provided by GitHub Actions[1](https://github.com/MicrosoftDocs/azure-docs/blob/main/articles/app-service/app-service-sql-github-actions.md). This workflow builds a container with the latest app changes, pushes the container to ACR, and updates the web application staging slot to point to the latest container pushed[1](https://github.com/MicrosoftDocs/azure-docs/blob/main/articles/app-service/app-service-sql-github-actions.md). The workflow includes a build and deploy job, where the build job checks out source code, authenticates with ACR, builds a container image, and deploys it to ACR[1](https://github.com/MicrosoftDocs/azure-docs/blob/main/articles/app-service/app-service-sql-github-actions.md). The deployment job logs into Azure, gathers environment and Azure resource information, updates Web App Settings, and deploys to an App Service staging slot[1](https://github.com/MicrosoftDocs/azure-docs/blob/main/articles/app-service/app-service-sql-github-actions.md). To run the build, push, and deploy workflow, you need to open your `build-deploy.yaml` file in `.github/workflows` within your repository, verify that the environment variables for `AZURE_RESOURCE_GROUP` and `WEB_APP_NAME` match the ones in `azuredeploy.yaml`, and update the `ACR_LOGIN_SERVER` value for your ACR login server[1](https://github.com/MicrosoftDocs/azure-docs/blob/main/articles/app-service/app-service-sql-github-actions.md)."
      ],
      "text/plain": [
       "<IPython.core.display.Markdown object>"
      ]
     },
     "metadata": {},
     "output_type": "display_data"
    },
    {
     "name": "stdout",
     "output_type": "stream",
     "text": [
      "CPU times: user 8.5 ms, sys: 3.55 ms, total: 12.1 ms\n",
      "Wall time: 6.98 s\n"
     ]
    }
   ],
   "source": [
    "%%time\n",
    "\n",
    "query = 'How to deploy container from ACR to web app?'\n",
    "js, md = qna(query)\n",
    "display(Markdown(md))"
   ]
  },
  {
   "cell_type": "code",
   "execution_count": 19,
   "id": "b0b0b782",
   "metadata": {},
   "outputs": [
    {
     "name": "stdout",
     "output_type": "stream",
     "text": [
      "intent: [\"ACR 컨테이너 웹앱 배포 방법\", \"ACR 컨테이너를 웹앱에 배포하는 방법\", \"ACR에서 웹앱으로 컨테이너 배포하는 방법\"]\n",
      "answer: GitHub Actions를 사용하여 ACR(Azure Container Registry)에 있는 컨테이너를 Azure Web App에 배포하는 방법은 다음과 같습니다[1](https://github.com/MicrosoftDocs/azure-docs/blob/main/articles/app-service/app-service-sql-github-actions.md)[2](https://github.com/MicrosoftDocs/azure-docs/blob/main/articles/app-service/deploy-ci-cd-custom-container.md):\n",
      "\n",
      "1. GitHub Actions workflow 파일을 생성합니다.\n",
      "2. Workflow 파일에서 Azure Container Registry에 로그인하고, 컨테이너 이미지를 빌드하고, ACR에 푸시합니다.\n",
      "3. Azure Web App에 로그인하고, Web App 설정을 업데이트하고, 스테이징 슬롯에 배포합니다.\n",
      "4. 커스텀 스크립트를 실행하여 SQL 데이터베이스를 업데이트하고, 스테이징 슬롯을 프로덕션으로 스왑합니다.\n",
      "\n",
      "자세한 내용은 [1](https://github.com/MicrosoftDocs/azure-docs/blob/main/articles/app-service/app-service-sql-github-actions.md)과 [2](https://github.com/MicrosoftDocs/azure-docs/blob/main/articles/app-service/deploy-ci-cd-custom-container.md)를 참조하시기 바랍니다.\n"
     ]
    },
    {
     "data": {
      "text/markdown": [
       "GitHub Actions를 사용하여 ACR(Azure Container Registry)에 있는 컨테이너를 Azure Web App에 배포하는 방법은 다음과 같습니다[1](https://github.com/MicrosoftDocs/azure-docs/blob/main/articles/app-service/app-service-sql-github-actions.md)[2](https://github.com/MicrosoftDocs/azure-docs/blob/main/articles/app-service/deploy-ci-cd-custom-container.md):\n",
       "\n",
       "1. GitHub Actions workflow 파일을 생성합니다.\n",
       "2. Workflow 파일에서 Azure Container Registry에 로그인하고, 컨테이너 이미지를 빌드하고, ACR에 푸시합니다.\n",
       "3. Azure Web App에 로그인하고, Web App 설정을 업데이트하고, 스테이징 슬롯에 배포합니다.\n",
       "4. 커스텀 스크립트를 실행하여 SQL 데이터베이스를 업데이트하고, 스테이징 슬롯을 프로덕션으로 스왑합니다.\n",
       "\n",
       "자세한 내용은 [1](https://github.com/MicrosoftDocs/azure-docs/blob/main/articles/app-service/app-service-sql-github-actions.md)과 [2](https://github.com/MicrosoftDocs/azure-docs/blob/main/articles/app-service/deploy-ci-cd-custom-container.md)를 참조하시기 바랍니다."
      ],
      "text/plain": [
       "<IPython.core.display.Markdown object>"
      ]
     },
     "metadata": {},
     "output_type": "display_data"
    }
   ],
   "source": [
    "query = 'ACR에 있는 컨테이너를 웹앱에 배포하는 방법에 대해서 알려줘?'\n",
    "js, md = qna(query)\n",
    "display(Markdown(md))"
   ]
  },
  {
   "cell_type": "markdown",
   "id": "c3f54985",
   "metadata": {},
   "source": [
    "## Grounding"
   ]
  },
  {
   "cell_type": "code",
   "execution_count": 18,
   "id": "36cab6e8",
   "metadata": {},
   "outputs": [
    {
     "name": "stdout",
     "output_type": "stream",
     "text": [
      "intent: [\"Who is Micheal Jackson?\", \"Tell me about Micheal Jackson\", \"Micheal Jackson biography\"]\n",
      "answer: The requested information is not available in the retrieved data. Please try another query or topic.\n",
      "CPU times: user 10.6 ms, sys: 0 ns, total: 10.6 ms\n",
      "Wall time: 4.03 s\n"
     ]
    }
   ],
   "source": [
    "%%time\n",
    "\n",
    "query = \"who is Micheal Jackson?\"\n",
    "reponse = qna(query)"
   ]
  },
  {
   "cell_type": "code",
   "execution_count": null,
   "id": "8a126235",
   "metadata": {},
   "outputs": [],
   "source": []
  }
 ],
 "metadata": {
  "kernelspec": {
   "display_name": "Python 3 (ipykernel)",
   "language": "python",
   "name": "python3"
  },
  "language_info": {
   "codemirror_mode": {
    "name": "ipython",
    "version": 3
   },
   "file_extension": ".py",
   "mimetype": "text/x-python",
   "name": "python",
   "nbconvert_exporter": "python",
   "pygments_lexer": "ipython3",
   "version": "3.10.11"
  }
 },
 "nbformat": 4,
 "nbformat_minor": 5
}
